{
 "cells": [
  {
   "cell_type": "code",
   "execution_count": 2,
   "metadata": {},
   "outputs": [],
   "source": [
    "import matplotlib.pyplot as plt\n",
    "import numpy as np\n",
    "from typing import Callable"
   ]
  },
  {
   "cell_type": "code",
   "execution_count": 3,
   "metadata": {},
   "outputs": [],
   "source": [
    "# system variables\n",
    "rho = 1\n",
    "length = 1\n",
    "u_psi = 5\n",
    "phi_max = np.pi/6\n",
    "\n",
    "r_min = length / (np.tan(phi_max))"
   ]
  },
  {
   "cell_type": "code",
   "execution_count": 4,
   "metadata": {},
   "outputs": [],
   "source": [
    "def nonlinearCar(q: np.ndarray, u: np.ndarray, t: float):\n",
    "    return np.array([\n",
    "        rho * np.cos(q[2]),\n",
    "        rho * np.sin(q[2]),\n",
    "        rho / length * np.tan(q[4]),\n",
    "        u[0],\n",
    "        u[1],\n",
    "        u[2]\n",
    "    ])\n",
    "\n",
    "def aMat(t: float, qt: np.ndarray, ut: np.ndarray):\n",
    "    A = np.zeros([6, 6])\n",
    "    A[0, 2] = - ut[0] * rho * np.sin(qt[2])\n",
    "    A[1, 2] = ut[0] * rho * np.cos(qt[2])\n",
    "    A[2, 4] = ut[0] * rho / length * np.cos(qt[4]) ** -2\n",
    "    return A\n",
    "\n",
    "def bMat(t: float, qt: np.ndarray, ut: np.ndarray):\n",
    "    B = np.zeros([6, 3])\n",
    "    B[0, 0] = rho * np.cos(qt[2])\n",
    "    B[1, 0] = rho * np.sin(qt[2])\n",
    "    B[2, 0] = rho / length * np.tan(qt[4])\n",
    "    B[3, 0] = 1\n",
    "    B[4, 1] = 1\n",
    "    B[5, 2] = 1\n",
    "    return B\n",
    "\n",
    "def linearizedCar(q: np.ndarray, u: np.ndarray, t: float, q_tilde: 'Callable[[float], np.ndarray]', u_tidle: 'Callable[[float], np.ndarray]'):\n",
    "    qt = q_tilde(t)\n",
    "    ut = u_tidle(t)\n",
    "    f = nonlinearCar(qt, ut, t)\n",
    "    A = aMat(t, qt, ut)\n",
    "    B = bMat(t, qt, ut)\n",
    "    return f + np.matmul(A, q - qt) + np.matmul(B, u - ut)\n",
    "\n"
   ]
  },
  {
   "cell_type": "code",
   "execution_count": 5,
   "metadata": {},
   "outputs": [],
   "source": [
    "def straightLineGenerator(x0, y0, theta0, v):\n",
    "    def f(t):\n",
    "        return np.ndarray([\n",
    "            x0 + v * rho * np.cos(theta0) * t,\n",
    "            x0 + v * rho * np.cos(theta0) * t,\n",
    "            0,\n",
    "            v * t,\n",
    "            0,\n",
    "            0\n",
    "        ])\n",
    "\n",
    "def curvePathGenerator(x0, y0, theta0, theta_dot, phi, v):\n",
    "    r = length / np.tan(phi)\n",
    "    if phi > 0: # left\n",
    "        perp = theta0 + np.pi / 2\n",
    "    else: # right\n",
    "        perp = theta0 - np.pi / 2\n",
    "    xc = r * np.cos(perp) + x0\n",
    "    yc = r * np.sin(perp) + y0\n",
    "    def f(t):\n",
    "        return np.ndarray([\n",
    "            xc + r * np.cos(theta_dot * t + theta0),\n",
    "            yc + r * np.sin(theta_dot * t + theta0),\n",
    "            theta_dot * t,\n",
    "            v * t,\n",
    "            phi,\n",
    "            0\n",
    "        ])\n",
    "    return f\n"
   ]
  },
  {
   "cell_type": "markdown",
   "metadata": {},
   "source": [
    "$\\Phi[k, k_0] = A[k -1]A[k-2]\\cdots A[k_0]$\n",
    "\n",
    "\n",
    "$x[k] = \\Phi[k, k_0]x_0 + \\sum_{m=k_0}^{k-1}\\Phi[k, m + 1]B[m]u[m]$\n",
    "\n",
    "\n",
    "$k_0 = k-1$\n",
    "\n",
    "\n",
    "$x[k] = \\Phi[k, k-1]x_{k-1} + \\Phi[k, k-1]B[k-1]u[k-1]$\n",
    "\n",
    "\n",
    "$x[k] = A[k-1]x_{k-1} + A[k-1]B[k-1]u[k-1]$"
   ]
  },
  {
   "cell_type": "code",
   "execution_count": 6,
   "metadata": {},
   "outputs": [],
   "source": [
    "h = .1\n",
    "\n",
    "def straightAmat(q0):\n",
    "    return np.array([\n",
    "        [1, 0, -u_psi * rho * np.sin(q0[2]) * h, 0, 0, 0],\n",
    "        [0, 1, u_psi * rho * np.cos(q0[2]) * h, 0, 0, 0],\n",
    "        [0, 0, 1, 0, u_psi * rho / length * h, 0],\n",
    "        [0, 0, 0, 1, 0, 0],\n",
    "        [0, 0, 0, 0, 1, 0],\n",
    "        [0, 0, 0, 0, 0, 1]\n",
    "    ])\n",
    "\n",
    "def straightBmat(q0):\n",
    "    return np.array([\n",
    "        [rho * np.cos(q0[2]) * h, 0, 0],\n",
    "        [rho * np.sin(q0[2]) * h, 0, 0],\n",
    "        [0, 0, 0],\n",
    "        [h, 0, 0],\n",
    "        [0, h, 0],\n",
    "        [0, 0, h]\n",
    "    ])\n",
    "\n",
    "def straightDmat(q0):\n",
    "    return np.array([\n",
    "        rho * u_psi * np.cos(q0[2]) * h,\n",
    "        rho * u_psi * np.sin(q0[2]) * h,\n",
    "        0,\n",
    "        u_psi * h,\n",
    "        0,\n",
    "        0\n",
    "    ])"
   ]
  },
  {
   "cell_type": "code",
   "execution_count": 9,
   "metadata": {},
   "outputs": [
    {
     "data": {
      "text/latex": [
       "$\\displaystyle \\left[\\begin{matrix}0 & 0 & 0 & 0 & 0 & 0\\\\0 & 0 & 0 & 0 & 0 & 0\\\\0 & 0 & 0 & 0 & 0 & 0\\\\0 & 0 & 0 & 0 & 0 & 0\\\\0 & 0 & 0 & 0 & 0 & 0\\\\0 & 0 & 0 & 0 & 0 & 0\\end{matrix}\\right]$"
      ],
      "text/plain": [
       "Matrix([\n",
       "[0, 0, 0, 0, 0, 0],\n",
       "[0, 0, 0, 0, 0, 0],\n",
       "[0, 0, 0, 0, 0, 0],\n",
       "[0, 0, 0, 0, 0, 0],\n",
       "[0, 0, 0, 0, 0, 0],\n",
       "[0, 0, 0, 0, 0, 0]])"
      ]
     },
     "execution_count": 9,
     "metadata": {},
     "output_type": "execute_result"
    }
   ],
   "source": [
    "from sympy import Symbol, sin, cos, sec, tan, Matrix, integrate, eye, latex\n",
    "u_psi = Symbol('u_psi')\n",
    "h = Symbol('h')\n",
    "rho = Symbol('rho')\n",
    "t = Symbol('t')\n",
    "theta = Symbol('theta')\n",
    "l = Symbol('l')\n",
    "phi = Symbol('phi')\n",
    "\n",
    "A = Matrix([\n",
    "    [ 0, 0, -u_psi * rho * sin(theta), 0, 0, 0],\n",
    "    [ 0, 0, u_psi * rho * cos(theta), 0, 0, 0],\n",
    "    [ 0, 0, 0, 0,u_psi * rho / l * sec(phi) ** 2 , 0],\n",
    "    [ 0, 0, 0, 0, 0, 0],\n",
    "    [ 0, 0, 0, 0, 0, 0],\n",
    "    [ 0, 0, 0, 0, 0, 0],\n",
    "])\n",
    "B = Matrix([\n",
    "    [rho * cos(theta), 0, 0],\n",
    "    [rho * sin(theta), 0, 0],\n",
    "    [rho / l * tan(phi), 0, 0],\n",
    "    [1, 0, 0],\n",
    "    [0, 1, 0],\n",
    "    [0, 0, 1]\n",
    "])\n",
    "A * A * A"
   ]
  },
  {
   "cell_type": "code",
   "execution_count": 13,
   "metadata": {},
   "outputs": [
    {
     "data": {
      "text/latex": [
       "$\\displaystyle \\left[\\begin{matrix}\\frac{\\rho u_{\\psi} \\left(h k l \\dot{\\theta}^{2} \\cos{\\left(t \\dot{\\theta} + \\theta_{0} \\right)} + \\rho u_{\\psi} \\left(h k \\dot{\\theta} \\cos{\\left(h k \\dot{\\theta} + \\theta_{0} \\right)} - \\sin{\\left(h k \\dot{\\theta} + \\theta_{0} \\right)}\\right) \\tan{\\left(\\phi_{c} \\right)} + \\rho u_{\\psi} \\sin{\\left(\\theta_{0} \\right)} \\tan{\\left(\\phi_{c} \\right)}\\right)}{l \\dot{\\theta}^{2}}\\\\\\frac{\\rho u_{\\psi} \\left(h k l \\dot{\\theta}^{2} \\sin{\\left(t \\dot{\\theta} + \\theta_{0} \\right)} + \\rho u_{\\psi} \\left(h k \\dot{\\theta} \\sin{\\left(h k \\dot{\\theta} + \\theta_{0} \\right)} + \\cos{\\left(h k \\dot{\\theta} + \\theta_{0} \\right)}\\right) \\tan{\\left(\\phi_{c} \\right)} - \\rho u_{\\psi} \\cos{\\left(\\theta_{0} \\right)} \\tan{\\left(\\phi_{c} \\right)}\\right)}{l \\dot{\\theta}^{2}}\\\\\\frac{h k \\rho u_{\\psi} \\tan{\\left(\\phi_{c} \\right)}}{l}\\\\h k u_{\\psi}\\\\0\\\\0\\end{matrix}\\right]$"
      ],
      "text/plain": [
       "Matrix([\n",
       "[rho*u_psi*(h*k*l*thetadot**2*cos(t*thetadot + theta_0) + rho*u_psi*(h*k*thetadot*cos(h*k*thetadot + theta_0) - sin(h*k*thetadot + theta_0))*tan(phi_c) + rho*u_psi*sin(theta_0)*tan(phi_c))/(l*thetadot**2)],\n",
       "[rho*u_psi*(h*k*l*thetadot**2*sin(t*thetadot + theta_0) + rho*u_psi*(h*k*thetadot*sin(h*k*thetadot + theta_0) + cos(h*k*thetadot + theta_0))*tan(phi_c) - rho*u_psi*cos(theta_0)*tan(phi_c))/(l*thetadot**2)],\n",
       "[                                                                                                                                                                                 h*k*rho*u_psi*tan(phi_c)/l],\n",
       "[                                                                                                                                                                                                  h*k*u_psi],\n",
       "[                                                                                                                                                                                                          0],\n",
       "[                                                                                                                                                                                                          0]])"
      ]
     },
     "execution_count": 13,
     "metadata": {},
     "output_type": "execute_result"
    }
   ],
   "source": [
    "u_psi = Symbol('u_psi')\n",
    "h = Symbol('h')\n",
    "rho = Symbol('rho')\n",
    "t = Symbol('t')\n",
    "k = Symbol('k')\n",
    "t_0 = Symbol('t_0')\n",
    "theta_0 = Symbol('theta_0')\n",
    "theta_dot = Symbol('thetadot', nonzero=True)\n",
    "l = Symbol('l')\n",
    "phi_c = Symbol('phi_c')\n",
    "\n",
    "A = Matrix([\n",
    "    [ 0, 0, -u_psi * rho * sin(theta_dot * t + theta_0), 0, 0, 0],\n",
    "    [ 0, 0, u_psi * rho * cos(theta_dot * t + theta_0), 0, 0, 0],\n",
    "    [ 0, 0, 0, 0,u_psi * rho / l * sec(phi_c) ** 2 , 0],\n",
    "    [ 0, 0, 0, 0, 0, 0],\n",
    "    [ 0, 0, 0, 0, 0, 0],\n",
    "    [ 0, 0, 0, 0, 0, 0],\n",
    "])\n",
    "B = Matrix([\n",
    "    [rho * cos(theta_dot * t + theta_0), 0, 0],\n",
    "    [rho * sin(theta_dot * t + theta_0), 0, 0],\n",
    "    [rho / l * tan(phi_c), 0, 0],\n",
    "    [1, 0, 0],\n",
    "    [0, 1, 0],\n",
    "    [0, 0, 1]\n",
    "])\n",
    "\n",
    "D = Matrix([\n",
    "    rho * u_psi * cos(theta_dot * t + theta_0),\n",
    "    rho * u_psi * sin(theta_dot * t + theta_0),\n",
    "    rho / l * u_psi * tan(phi_c),\n",
    "    u_psi,\n",
    "    0,\n",
    "    0\n",
    "])\n",
    "t_0 = 0\n",
    "    \n",
    "\n",
    "def Phi(r, tau):\n",
    "    return eye(6) + integrate(A, (t, tau, r)) + integrate(A * integrate(A, (t, tau, t)), (t, tau , r))\n",
    "\n",
    "F = Phi(h * k + t_0, t_0)\n",
    "F\n",
    "s = Symbol('s')\n",
    "B = B.subs(t, s)\n",
    "G = integrate(Phi(h * k + t_0, s) * B, (s, t_0, h * k + t_0))\n",
    "G.simplify()\n",
    "# print(latex(F.simplify()))\n",
    "D = integrate(Phi(h * k + t_0, s) * D, (s, t_0, h * k + t_0))\n",
    "D.simplify()"
   ]
  }
 ],
 "metadata": {
  "kernelspec": {
   "display_name": "Python 3.10.6 ('controls')",
   "language": "python",
   "name": "python3"
  },
  "language_info": {
   "codemirror_mode": {
    "name": "ipython",
    "version": 3
   },
   "file_extension": ".py",
   "mimetype": "text/x-python",
   "name": "python",
   "nbconvert_exporter": "python",
   "pygments_lexer": "ipython3",
   "version": "3.10.4"
  },
  "orig_nbformat": 4,
  "vscode": {
   "interpreter": {
    "hash": "94540ee2689e38cb4a00bc58df5375256baeebc145b73d8f0b2e119aa03d98be"
   }
  }
 },
 "nbformat": 4,
 "nbformat_minor": 2
}
