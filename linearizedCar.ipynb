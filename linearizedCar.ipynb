{
 "cells": [
  {
   "cell_type": "code",
   "execution_count": 2,
   "metadata": {},
   "outputs": [
    {
     "name": "stdout",
     "output_type": "stream",
     "text": [
      "(CVXPY) Dec 11 04:36:25 PM: Encountered unexpected exception importing solver OSQP:\n",
      "ImportError('DLL load failed while importing qdldl: The specified module could not be found.')\n"
     ]
    }
   ],
   "source": [
    "import matplotlib.pyplot as plt\n",
    "import numpy as np\n",
    "from typing import Callable\n",
    "from sympy import Symbol, sin, cos, sec, tan, Matrix, integrate, eye, latex\n",
    "import os\n",
    "import cvxpy as cp\n",
    "from linearizedcar import DubinsCar, dubinsCurve2d, Vertex"
   ]
  },
  {
   "cell_type": "code",
   "execution_count": 3,
   "metadata": {},
   "outputs": [],
   "source": [
    "# system variables\n",
    "rho = 1\n",
    "length = 1\n",
    "u_psi = 5\n",
    "phi_max = np.pi/6\n",
    "\n",
    "r_min = length / (np.tan(phi_max))"
   ]
  },
  {
   "cell_type": "code",
   "execution_count": 4,
   "metadata": {},
   "outputs": [],
   "source": [
    "def nonlinearCar(q: np.ndarray, u: np.ndarray, t: float):\n",
    "    return np.array([\n",
    "        rho * np.cos(q[2]),\n",
    "        rho * np.sin(q[2]),\n",
    "        rho / length * np.tan(q[4]),\n",
    "        u[0],\n",
    "        u[1],\n",
    "        u[2]\n",
    "    ])\n",
    "\n",
    "def aMat(t: float, qt: np.ndarray, ut: np.ndarray):\n",
    "    A = np.zeros([6, 6])\n",
    "    A[0, 2] = - ut[0] * rho * np.sin(qt[2])\n",
    "    A[1, 2] = ut[0] * rho * np.cos(qt[2])\n",
    "    A[2, 4] = ut[0] * rho / length * np.cos(qt[4]) ** -2\n",
    "    return A\n",
    "\n",
    "def bMat(t: float, qt: np.ndarray, ut: np.ndarray):\n",
    "    B = np.zeros([6, 3])\n",
    "    B[0, 0] = rho * np.cos(qt[2])\n",
    "    B[1, 0] = rho * np.sin(qt[2])\n",
    "    B[2, 0] = rho / length * np.tan(qt[4])\n",
    "    B[3, 0] = 1\n",
    "    B[4, 1] = 1\n",
    "    B[5, 2] = 1\n",
    "    return B\n",
    "\n",
    "def linearizedCar(q: np.ndarray, u: np.ndarray, t: float, q_tilde: 'Callable[[float], np.ndarray]', u_tidle: 'Callable[[float], np.ndarray]'):\n",
    "    qt = q_tilde(t)\n",
    "    ut = u_tidle(t)\n",
    "    f = nonlinearCar(qt, ut, t)\n",
    "    A = aMat(t, qt, ut)\n",
    "    B = bMat(t, qt, ut)\n",
    "    return f + np.matmul(A, q - qt) + np.matmul(B, u - ut)\n",
    "\n"
   ]
  },
  {
   "cell_type": "code",
   "execution_count": 5,
   "metadata": {},
   "outputs": [],
   "source": [
    "def straightLineGenerator(x0, y0, theta0, v):\n",
    "    def f(t):\n",
    "        return np.ndarray([\n",
    "            x0 + v * rho * np.cos(theta0) * t,\n",
    "            x0 + v * rho * np.cos(theta0) * t,\n",
    "            0,\n",
    "            v * t,\n",
    "            0,\n",
    "            0\n",
    "        ])\n",
    "\n",
    "def curvePathGenerator(x0, y0, theta0, theta_dot, phi, v):\n",
    "    r = length / np.tan(phi)\n",
    "    if phi > 0: # left\n",
    "        perp = theta0 + np.pi / 2\n",
    "    else: # right\n",
    "        perp = theta0 - np.pi / 2\n",
    "    xc = r * np.cos(perp) + x0\n",
    "    yc = r * np.sin(perp) + y0\n",
    "    def f(t):\n",
    "        return np.ndarray([\n",
    "            xc + r * np.cos(theta_dot * t + theta0),\n",
    "            yc + r * np.sin(theta_dot * t + theta0),\n",
    "            theta_dot * t,\n",
    "            v * t,\n",
    "            phi,\n",
    "            0\n",
    "        ])\n",
    "    return f\n"
   ]
  },
  {
   "cell_type": "markdown",
   "metadata": {},
   "source": [
    "$\\Phi[k, k_0] = A[k -1]A[k-2]\\cdots A[k_0]$\n",
    "\n",
    "\n",
    "$x[k] = \\Phi[k, k_0]x_0 + \\sum_{m=k_0}^{k-1}\\Phi[k, m + 1]B[m]u[m]$\n",
    "\n",
    "\n",
    "$k_0 = k-1$\n",
    "\n",
    "\n",
    "$x[k] = \\Phi[k, k-1]x_{k-1} + \\Phi[k, k-1]B[k-1]u[k-1]$\n",
    "\n",
    "\n",
    "$x[k] = A[k-1]x_{k-1} + A[k-1]B[k-1]u[k-1]$"
   ]
  },
  {
   "cell_type": "code",
   "execution_count": 6,
   "metadata": {},
   "outputs": [],
   "source": [
    "def straightAmat(h, rho, length, u_psi, theta_0):\n",
    "    return np.array([\n",
    "        [1, 0, -u_psi * rho * np.sin(theta_0) * h, 0, 0, 0],\n",
    "        [0, 1, u_psi * rho * np.cos(theta_0) * h, 0, 0, 0],\n",
    "        [0, 0, 1, 0, u_psi * rho / length * h, 0],\n",
    "        [0, 0, 0, 1, 0, 0],\n",
    "        [0, 0, 0, 0, 1, 0],\n",
    "        [0, 0, 0, 0, 0, 1]\n",
    "    ])\n",
    "\n",
    "def straightBmat(h, rho, length, u_psi, theta_0):\n",
    "    return np.array([\n",
    "        [rho * np.cos(theta_0) * h, 0, 0],\n",
    "        [rho * np.sin(theta_0) * h, 0, 0],\n",
    "        [0, 0, 0],\n",
    "        [h, 0, 0],\n",
    "        [0, h, 0],\n",
    "        [0, 0, h]\n",
    "    ])\n",
    "\n",
    "def straightDmat(h, rho, u_psi, theta_0):\n",
    "    return np.array([\n",
    "        rho * u_psi * np.cos(theta_0) * h,\n",
    "        rho * u_psi * np.sin(theta_0) * h,\n",
    "        0,\n",
    "        u_psi * h,\n",
    "        0,\n",
    "        0\n",
    "    ])"
   ]
  },
  {
   "cell_type": "code",
   "execution_count": 6,
   "metadata": {},
   "outputs": [
    {
     "data": {
      "text/latex": [
       "$\\displaystyle \\left[\\begin{matrix}0 & 0 & 0 & 0 & 0 & 0\\\\0 & 0 & 0 & 0 & 0 & 0\\\\0 & 0 & 0 & 0 & 0 & 0\\\\0 & 0 & 0 & 0 & 0 & 0\\\\0 & 0 & 0 & 0 & 0 & 0\\\\0 & 0 & 0 & 0 & 0 & 0\\end{matrix}\\right]$"
      ],
      "text/plain": [
       "Matrix([\n",
       "[0, 0, 0, 0, 0, 0],\n",
       "[0, 0, 0, 0, 0, 0],\n",
       "[0, 0, 0, 0, 0, 0],\n",
       "[0, 0, 0, 0, 0, 0],\n",
       "[0, 0, 0, 0, 0, 0],\n",
       "[0, 0, 0, 0, 0, 0]])"
      ]
     },
     "execution_count": 6,
     "metadata": {},
     "output_type": "execute_result"
    }
   ],
   "source": [
    "u_psi = Symbol('u_psi')\n",
    "h = Symbol('h')\n",
    "rho = Symbol('rho')\n",
    "t = Symbol('t')\n",
    "theta = Symbol('theta')\n",
    "l = Symbol('l')\n",
    "phi = Symbol('phi')\n",
    "\n",
    "A = Matrix([\n",
    "    [ 0, 0, -u_psi * rho * sin(theta), 0, 0, 0],\n",
    "    [ 0, 0, u_psi * rho * cos(theta), 0, 0, 0],\n",
    "    [ 0, 0, 0, 0,u_psi * rho / l * sec(phi) ** 2 , 0],\n",
    "    [ 0, 0, 0, 0, 0, 0],\n",
    "    [ 0, 0, 0, 0, 0, 0],\n",
    "    [ 0, 0, 0, 0, 0, 0],\n",
    "])\n",
    "B = Matrix([\n",
    "    [rho * cos(theta), 0, 0],\n",
    "    [rho * sin(theta), 0, 0],\n",
    "    [rho / l * tan(phi), 0, 0],\n",
    "    [1, 0, 0],\n",
    "    [0, 1, 0],\n",
    "    [0, 0, 1]\n",
    "])\n",
    "A * A * A"
   ]
  },
  {
   "cell_type": "code",
   "execution_count": 7,
   "metadata": {},
   "outputs": [],
   "source": [
    "u_psi = Symbol('u_psi')\n",
    "h = Symbol('h')\n",
    "rho = Symbol('rho')\n",
    "t = Symbol('t')\n",
    "k = Symbol('k')\n",
    "t_0 = Symbol('t_0')\n",
    "theta_0 = Symbol('theta_0')\n",
    "theta_dot = Symbol('thetadot', nonzero=True)\n",
    "l = Symbol('l')\n",
    "phi_c = Symbol('phi_c')\n",
    "\n",
    "A = Matrix([\n",
    "    [ 0, 0, -u_psi * rho * sin(theta_dot * t + theta_0), 0, 0, 0],\n",
    "    [ 0, 0, u_psi * rho * cos(theta_dot * t + theta_0), 0, 0, 0],\n",
    "    [ 0, 0, 0, 0,u_psi * rho / l * sec(phi_c) ** 2 , 0],\n",
    "    [ 0, 0, 0, 0, 0, 0],\n",
    "    [ 0, 0, 0, 0, 0, 0],\n",
    "    [ 0, 0, 0, 0, 0, 0],\n",
    "])\n",
    "B = Matrix([\n",
    "    [rho * cos(theta_dot * t + theta_0), 0, 0],\n",
    "    [rho * sin(theta_dot * t + theta_0), 0, 0],\n",
    "    [rho / l * tan(phi_c), 0, 0],\n",
    "    [1, 0, 0],\n",
    "    [0, 1, 0],\n",
    "    [0, 0, 1]\n",
    "])\n",
    "\n",
    "D = Matrix([\n",
    "    rho * u_psi * cos(theta_dot * t + theta_0),\n",
    "    rho * u_psi * sin(theta_dot * t + theta_0),\n",
    "    rho / l * u_psi * tan(phi_c),\n",
    "    u_psi,\n",
    "    0,\n",
    "    0\n",
    "])\n",
    "t_0 = 0\n",
    "    \n",
    "\n",
    "def Phi(r, tau):\n",
    "    return eye(6) + integrate(A, (t, tau, r)) + integrate(A * integrate(A, (t, tau, t)), (t, tau , r))\n",
    "\n",
    "F = Phi(h * (k+1) + t_0, k * h + t_0)\n",
    "s = Symbol('s')\n",
    "B = B.subs(t, s)\n",
    "D = D.subs(t, s)\n",
    "G = integrate(Phi(h * k + t_0, s) * B, (s, t_0 + h * k, h * (k+1) + t_0))\n",
    "H = integrate(Phi(h * k + t_0, s) * D, (s, t_0 + h * k, h * (k+1) + t_0))\n",
    "\n",
    "if not os.path.exists('target'):\n",
    "    os.mkdir('target')\n",
    "\n",
    "with open('target/A[k].tex', 'w') as f:\n",
    "    f.write(latex(F.simplify()))\n",
    "\n",
    "with open('target/B[k].tex', 'w') as f:\n",
    "    f.write(latex(G.simplify()))\n",
    "\n",
    "with open('target/D[k].tex', 'w') as f:\n",
    "    f.write(latex(H.simplify()))\n",
    "\n"
   ]
  },
  {
   "cell_type": "code",
   "execution_count": 8,
   "metadata": {},
   "outputs": [],
   "source": [
    "def curveAmat(h, rho, length, u_psi, theta_0, theta_dot, phi_c):\n",
    "    def f(k):\n",
    "        return np.array([\n",
    "        [1, 0,\n",
    "            rho * u_psi * ( -np.cos(h * k * theta_dot + theta_0) + np.cos(h * theta_dot * (k + 1) + theta_0)) / theta_dot, 0,\n",
    "            rho ** 2 * u_psi ** 2 * (h * theta_dot * np.cos(h * theta_dot * (k + 1) + theta_0) + np.sin(h * k * h * theta_dot + theta_0) - np.sin(h * theta_dot * (k + 1) + theta_0)) / (np.cos(phi_c) ** 2 * length * theta_dot ** 2), 0],\n",
    "        [1, 0,\n",
    "            rho * u_psi * ( -np.sin(h * k * theta_dot + theta_0) + np.sin(h * theta_dot * (k + 1) + theta_0)) / theta_dot, 0,\n",
    "            rho ** 2 * u_psi ** 2 * (h * theta_dot * np.sin(h * theta_dot * (k + 1) + theta_0) - np.cos(h * k * h * theta_dot + theta_0) + np.cos(h * theta_dot * (k + 1) + theta_0)) / (np.cos(phi_c) ** 2 * length * theta_dot ** 2), 0],\n",
    "        [0, 0, 1, 0, h * u_psi * rho / (np.cos(phi_c) ** 2 * length), 0],\n",
    "        [0, 0, 0, 1, 0, 0],\n",
    "        [0, 0, 0, 0, 1, 0],\n",
    "        [0, 0, 0, 0, 0, 1]\n",
    "        ])\n",
    "    return f\n",
    "\n",
    "def curveBmat(h, rho, length, u_psi, theta_0, theta_dot, phi_c):\n",
    "    def f(k):\n",
    "        return np.array([\n",
    "            [rho * (length * theta_dot * (-np.sin(h * k * theta_dot + theta_0) + np.sin(h * theta_dot * (k + 1) + theta_0)) + rho * u_psi * (h * theta_dot * np.cos(h * k * theta_dot + theta_0) + np.sin(h * k * theta_dot + theta_0) - np.sin(h * theta_dot * (k + 1) + theta_0)) * np.tan(phi_c)) / (length * theta_dot ** 2),\n",
    "            rho ** 2 * u_psi ** 2 * (-.5 * h ** 2 * theta_dot ** 2 * np.cos(h * k * theta_dot + theta_0) - h * theta_dot * np.sin(h * k * theta_dot + theta_0) + np.cos(h * k * theta_dot + theta_0) - np.cos(h * theta_dot * (k + 1) + theta_0)) / (length * theta_dot ** 3 * np.cos(phi_c) ** 2), 0],\n",
    "            [rho * (length * theta_dot * (np.cos(h * k * theta_dot + theta_0) - np.cos(h * theta_dot * (k + 1) + theta_0)) + rho * u_psi * (h * theta_dot * np.sin(h * k * theta_dot + theta_0) - np.cos(h * k * theta_dot + theta_0) + np.cos(h * theta_dot * (k + 1) + theta_0)) * np.tan(phi_c)) / (length * theta_dot ** 2),\n",
    "            rho ** 2 * u_psi ** 2 * (-.5 * h ** 2 * theta_dot ** 2 * np.sin(h * k * theta_dot + theta_0) + h * theta_dot * np.cos(h * k * theta_dot + theta_0) + np.sin(h * k * theta_dot + theta_0) - np.sin(h * theta_dot * (k + 1) + theta_0)) / (length * theta_dot ** 3 * np.cos(phi_c) ** 2), 0],\n",
    "            [h * rho * np.tan(phi_c) / length, h ** 2 * rho * u_psi /(2 * length * np.cos(phi_c) ** 2), 0],\n",
    "            [h, 0, 0],\n",
    "            [0, h, 0],\n",
    "            [0, 0, h]\n",
    "        ])\n",
    "    return f\n",
    "\n",
    "def curveDmat(h, rho, length, u_psi, theta_0, theta_dot, phi_c):\n",
    "    def f(k):\n",
    "        return np.array([\n",
    "            rho * u_psi * (length * theta_dot * (-np.sin(h * k * theta_dot + theta_0) + np.sin(h * theta_dot * (k + 1) + theta_0)) + rho * u_psi * (h ( theta_dot * np.cos(h * k * theta_dot + theta_0) + np.sin(h * k * theta_dot + theta_0) - np.sin(h * theta_dot * (k + 1) + theta_0)) * np.tan(phi_c))) / (length * theta_dot ** 2),\n",
    "            rho * u_psi * (length * theta_dot * (np.cos(h * k * theta_dot + theta_0) - np.cos(h * theta_dot * (k + 1) + theta_0)) + rho * u_psi * (h ( theta_dot * np.sin(h * k * theta_dot + theta_0) - np.cos(h * k * theta_dot + theta_0) + np.cos(h * theta_dot * (k + 1) + theta_0)) * np.tan(phi_c))) / (length * theta_dot ** 2),\n",
    "            h * rho * u_psi * np.tan(phi_c) / length,\n",
    "            u_psi * h,\n",
    "            0,\n",
    "            0\n",
    "        ])\n",
    "    return f"
   ]
  },
  {
   "cell_type": "code",
   "execution_count": 25,
   "metadata": {},
   "outputs": [
    {
     "name": "stderr",
     "output_type": "stream",
     "text": [
      "c:\\Users\\chagu\\Programs\\repos\\LinearizedCarRobot\\linearizedcar\\dubinsCar.py:164: RuntimeWarning: invalid value encountered in sqrt\n",
      "  b = np.sqrt((x + m_sth) * (x + m_sth) + (y - m_cth - 1) * (y - m_cth - 1) - 4)\n",
      "c:\\Users\\chagu\\Programs\\repos\\LinearizedCarRobot\\linearizedcar\\dubinsCar.py:299: RuntimeWarning: invalid value encountered in arccos\n",
      "  possibleB.append(np.arccos(1 - (v ** 2 + w ** 2) / 2))\n",
      "c:\\Users\\chagu\\Programs\\repos\\LinearizedCarRobot\\linearizedcar\\dubinsCar.py:256: RuntimeWarning: invalid value encountered in arccos\n",
      "  possibleB.append(np.arccos(1 - (v ** 2 + w ** 2) / 2))\n"
     ]
    },
    {
     "data": {
      "text/plain": [
       "Text(0, 0.5, 'y (m)')"
      ]
     },
     "execution_count": 25,
     "metadata": {},
     "output_type": "execute_result"
    },
    {
     "data": {
      "image/png": "[encoded data removed]",
      "text/plain": [
       "<Figure size 640x480 with 1 Axes>"
      ]
     },
     "metadata": {},
     "output_type": "display_data"
    }
   ],
   "source": [
    "dt = .1\n",
    "r = 1\n",
    "\n",
    "# target dynamics\n",
    "# x[k+1] = I x[k] + dt u\n",
    "u_t = np.array([-1.0, 1.0, 0])\n",
    "u_t /= np.linalg.norm(u_t) * .95\n",
    "\n",
    "T = 100\n",
    "x_t = np.zeros([3, T])\n",
    "x_t[:, 0] = [1, 0, 5]\n",
    "for k in range(T - 1):\n",
    "    x_t[:, k + 1] = x_t[:, k] + dt * u_t\n",
    "\n",
    "fig = plt.figure()\n",
    "ax = fig.gca()\n",
    "ax.plot(x_t[0, :], x_t[1, :], 'b--')\n",
    "\n",
    "planner = DubinsCar()\n",
    "# car start\n",
    "start = Vertex(x=0, y=0, psi=0)\n",
    "end = Vertex(x=-1, y=2, psi=3/4 * np.pi)\n",
    "path = planner.calculatePath(start, end, r)\n",
    "f = dubinsCurve2d(path.start.toarray(), path.a, path.b, path.c, path.r, path.type)\n",
    "p = np.array([f(s) for s in np.arange(0, 1.01, dt)])\n",
    "ax.plot(p[:, 0], p[:, 1], 'r.')\n",
    "\n",
    "final = Vertex(x=x_t[0, -1], y=x_t[1, -1], psi=3/4 * np.pi)\n",
    "path = planner.calculatePath(end, final, r)\n",
    "f = dubinsCurve2d(path.start.toarray(), path.a, path.b, path.c, path.r, path.type)\n",
    "p = np.array([f(s) for s in np.arange(0, 1.01, dt)])\n",
    "ax.plot(p[:, 0], p[:, 1], 'r.')\n",
    "\n",
    "ax.legend(['target', 'car'])\n",
    "ax.set_xlabel('x (m)')\n",
    "ax.set_ylabel('y (m)')\n",
    "fig.savefig('target/trajectories.pdf')"
   ]
  },
  {
   "cell_type": "code",
   "execution_count": null,
   "metadata": {},
   "outputs": [],
   "source": [
    "Q = np.eye(6)\n",
    "R = np.eye(6)\n",
    "\n",
    "q = cp.Variable(6)"
   ]
  }
 ],
 "metadata": {
  "kernelspec": {
   "display_name": "Python 3.10.6 ('controls')",
   "language": "python",
   "name": "python3"
  },
  "language_info": {
   "codemirror_mode": {
    "name": "ipython",
    "version": 3
   },
   "file_extension": ".py",
   "mimetype": "text/x-python",
   "name": "python",
   "nbconvert_exporter": "python",
   "pygments_lexer": "ipython3",
   "version": "3.10.4"
  },
  "orig_nbformat": 4,
  "vscode": {
   "interpreter": {
    "hash": "94540ee2689e38cb4a00bc58df5375256baeebc145b73d8f0b2e119aa03d98be"
   }
  }
 },
 "nbformat": 4,
 "nbformat_minor": 2
}
